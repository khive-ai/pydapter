{
  "cells": [
    {
      "cell_type": "markdown",
      "metadata": {},
      "source": [
        "# AsyncPulsarMemvidAdapter Tutorial\n",
        "\n",
        "This notebook demonstrates the AsyncPulsarMemvidAdapter functionality with Apache Pulsar streaming.\n",
        "\n",
        "## Prerequisites\n",
        "1. Start Pulsar: `docker-compose up -d`\n",
        "2. Wait 30-60 seconds for startup\n",
        "3. Verify with: `docker logs pulsar-standalone`"
      ]
    },
    {
      "cell_type": "code",
      "execution_count": 1,
      "metadata": {},
      "outputs": [],
      "source": [
        "from pydapter import AsyncAdaptable\n",
        "from pydapter.extras.async_memvid_pulsar import AsyncPulsarMemvidAdapter\n",
        "from pydantic import BaseModel"
      ]
    },
    {
      "cell_type": "code",
      "execution_count": 2,
      "metadata": {},
      "outputs": [
        {
          "name": "stdout",
          "output_type": "stream",
          "text": [
            "Created 2 research papers:\n",
            "- Deep Learning for Natural Language Processing (AI)\n",
            "- Quantum Computing Applications (Quantum)\n"
          ]
        }
      ],
      "source": [
        "# Define data models\n",
        "class ResearchPaper(AsyncAdaptable, BaseModel):\n",
        "    \"\"\"Research paper with rich metadata.\"\"\"\n",
        "    id: str\n",
        "    title: str\n",
        "    abstract: str\n",
        "    authors: list[str]\n",
        "    category: str\n",
        "\n",
        "class SearchResult(AsyncAdaptable, BaseModel):\n",
        "    \"\"\"Search result from video memory.\"\"\"\n",
        "    text: str\n",
        "    id: str = \"0\"\n",
        "    score: float = 0.0\n",
        "\n",
        "# Register adapters\n",
        "ResearchPaper.register_async_adapter(AsyncPulsarMemvidAdapter)\n",
        "SearchResult.register_async_adapter(AsyncPulsarMemvidAdapter)\n",
        "\n",
        "# Create sample data\n",
        "papers = [\n",
        "    ResearchPaper(\n",
        "        id=\"paper_001\",\n",
        "        title=\"Deep Learning for Natural Language Processing\",\n",
        "        abstract=\"This paper presents novel approaches to deep learning architectures for natural language understanding.\",\n",
        "        authors=[\"Dr. Sarah Chen\", \"Prof. Michael Rodriguez\"],\n",
        "        category=\"AI\"\n",
        "    ),\n",
        "    ResearchPaper(\n",
        "        id=\"paper_002\",\n",
        "        title=\"Quantum Computing Applications\",\n",
        "        abstract=\"We explore quantum computing implications for modern cryptographic systems.\",\n",
        "        authors=[\"Dr. Alan Quantum\"],\n",
        "        category=\"Quantum\"\n",
        "    )\n",
        "]\n",
        "\n",
        "print(f\"Created {len(papers)} research papers:\")\n",
        "for paper in papers:\n",
        "    print(f\"- {paper.title} ({paper.category})\")"
      ]
    },
    {
      "cell_type": "code",
      "execution_count": 3,
      "metadata": {},
      "outputs": [
        {
          "name": "stdout",
          "output_type": "stream",
          "text": [
            "\u2705 All imports successful\n",
            "Pulsar URL: pulsar://localhost:6650\n"
          ]
        }
      ],
      "source": [
        "# Import required libraries\n",
        "import asyncio\n",
        "import tempfile\n",
        "import os\n",
        "import sys\n",
        "from pathlib import Path\n",
        "from typing import List\n",
        "from pydantic import BaseModel\n",
        "from pydapter.async_core import AsyncAdaptable\n",
        "\n",
        "# Add source path\n",
        "sys.path.insert(0, str(Path().parent.parent / \"src\"))\n",
        "\n",
        "# Import AsyncPulsarMemvidAdapter\n",
        "from pydapter.extras.async_memvid_pulsar import (\n",
        "    AsyncPulsarMemvidAdapter,\n",
        "    PulsarMemvidMessage,\n",
        "    MemoryOperationResult\n",
        ")\n",
        "\n",
        "print(\"\u2705 All imports successful\")\n",
        "\n",
        "# Configuration\n",
        "PULSAR_URL = \"pulsar://localhost:6650\"\n",
        "print(f\"Pulsar URL: {PULSAR_URL}\")"
      ]
    },
    {
      "cell_type": "code",
      "execution_count": 4,
      "metadata": {},
      "outputs": [
        {
          "name": "stdout",
          "output_type": "stream",
          "text": [
            "\ud83d\udd0d Testing Pulsar connectivity...\n"
          ]
        },
        {
          "name": "stderr",
          "output_type": "stream",
          "text": [
            "/Users/lion/google_drive/pydapter/.venv/lib/python3.12/site-packages/tqdm/auto.py:21: TqdmWarning: IProgress not found. Please update jupyter and ipywidgets. See https://ipywidgets.readthedocs.io/en/stable/user_install.html\n",
            "  from .autonotebook import tqdm as notebook_tqdm\n"
          ]
        },
        {
          "name": "stdout",
          "output_type": "stream",
          "text": [
            "Warning: OpenAI library not available. OpenAI provider will be disabled.\n",
            "Warning: Google Generative AI library not available. Google provider will be disabled.\n",
            "Warning: Anthropic library not available. Anthropic provider will be disabled.\n",
            "2025-06-11 15:18:03.922 INFO  [0x1fe901f00] ClientImpl:666 | Closing Pulsar client with 0 producers and 0 consumers\n",
            "\u2705 Pulsar connection successful!\n",
            "- Connection: ok\n",
            "- Dependencies: ok\n"
          ]
        }
      ],
      "source": [
        "# Test Pulsar connectivity\n",
        "async def test_pulsar_connectivity():\n",
        "    \"\"\"Test if Pulsar is accessible.\"\"\"\n",
        "    try:\n",
        "        print(\"\ud83d\udd0d Testing Pulsar connectivity...\")\n",
        "        health = await AsyncPulsarMemvidAdapter.health_check(PULSAR_URL)\n",
        "        \n",
        "        if health.get('healthy', False):\n",
        "            print(\"\u2705 Pulsar connection successful!\")\n",
        "            print(f\"- Connection: {health.get('pulsar_connection')}\")\n",
        "            print(f\"- Dependencies: {health.get('dependencies')}\")\n",
        "            return True\n",
        "        else:\n",
        "            print(f\"\u274c Health check failed: {health.get('error')}\")\n",
        "            return False\n",
        "            \n",
        "    except Exception as e:\n",
        "        print(f\"\u274c Connection test failed: {e}\")\n",
        "        return False\n",
        "\n",
        "# Run connectivity test\n",
        "pulsar_ready = await test_pulsar_connectivity()"
      ]
    },
    {
      "cell_type": "code",
      "execution_count": 5,
      "metadata": {},
      "outputs": [
        {
          "name": "stdout",
          "output_type": "stream",
          "text": [
            "\ud83c\udfac Testing async memory operations...\n",
            "\n",
            "\ud83d\udce8 Async encoding (queued via Pulsar)...\n",
            "2025-06-11 15:18:03.928 INFO  [0x1fe901f00] ClientConnection:193 | [<none> -> pulsar://localhost:6650] Create ClientConnection, timeout=10000\n",
            "2025-06-11 15:18:03.928 INFO  [0x1fe901f00] ConnectionPool:124 | Created connection for pulsar://localhost:6650-pulsar://localhost:6650-0\n",
            "2025-06-11 15:18:03.935 INFO  [0x33cd97000] ClientConnection:410 | [[::1]:51893 -> [::1]:6650] Connected to broker\n",
            "2025-06-11 15:18:03.943 INFO  [0x33cd97000] HandlerBase:115 | [persistent://public/default/memory-operations, ] Getting connection from pool\n",
            "2025-06-11 15:18:03.944 INFO  [0x33cd97000] BinaryProtoLookupService:86 | Lookup response for persistent://public/default/memory-operations, lookup-broker-url pulsar://localhost:6650, from [[::1]:51893 -> [::1]:6650] \n",
            "2025-06-11 15:18:03.944 INFO  [0x33cd97000] ProducerImpl:148 | Creating producer for topic:persistent://public/default/memory-operations, producerName: on [[::1]:51893 -> [::1]:6650] \n",
            "2025-06-11 15:18:03.954 INFO  [0x33cd97000] ProducerImpl:220 | [persistent://public/default/memory-operations, ] Created producer on broker [[::1]:51893 -> [::1]:6650] \n",
            "2025-06-11 15:18:03.954 INFO  [0x33cd97000] HandlerBase:138 | Finished connecting to broker after 10 ms\n",
            "2025-06-11 15:18:03.968 INFO  [0x1fe901f00] ProducerImpl:800 | [persistent://public/default/memory-operations, standalone-0-39] Closing producer for topic persistent://public/default/memory-operations\n",
            "2025-06-11 15:18:03.969 INFO  [0x33cd97000] ProducerImpl:764 | [persistent://public/default/memory-operations, standalone-0-39] Closed producer 0\n",
            "2025-06-11 15:18:03.969 INFO  [0x1fe901f00] ClientImpl:666 | Closing Pulsar client with 0 producers and 0 consumers\n",
            "2025-06-11 15:18:03.969 INFO  [0x33f513000] ClientConnection:1336 | [[::1]:51893 -> [::1]:6650] Connection disconnected (refCnt: 1)\n",
            "2025-06-11 15:18:03.969 INFO  [0x33f513000] ClientConnection:282 | [[::1]:51893 -> [::1]:6650] Destroyed connection to pulsar://localhost:6650-0\n",
            "\u2705 Async operation queued:\n",
            "- Message sent: True\n",
            "- Memory ID: research-async\n",
            "- Message ID: 866dc4c2-dd1f-4659-9e71-75999cca7c5e\n",
            "\n",
            "\ud83d\udca1 In production, background workers would process this message.\n",
            "2025-06-11 15:18:03.969 INFO  [0x1fe901f00] ProducerImpl:755 | Producer - [persistent://public/default/memory-operations, standalone-0-39] , [batchMessageContainer = { BatchMessageContainer [size = 0] [bytes = 0] [maxSize = 1000] [maxBytes = 131072] [topicName = persistent://public/default/memory-operations] [numberOfBatchesSent_ = 1] [averageBatchSize_ = 0] }]\n"
          ]
        }
      ],
      "source": [
        "# Async video memory operations\n",
        "async def demo_async_operations():\n",
        "    \"\"\"Demonstrate async video memory operations.\"\"\"\n",
        "    if not pulsar_ready:\n",
        "        print(\"\u274c Pulsar not ready, skipping demo\")\n",
        "        return\n",
        "    \n",
        "    print(\"\ud83c\udfac Testing async memory operations...\")\n",
        "    \n",
        "    # Create temporary files\n",
        "    temp_dir = tempfile.mkdtemp()\n",
        "    video_file = os.path.join(temp_dir, \"research.mp4\")\n",
        "    index_file = os.path.join(temp_dir, \"index.json\")\n",
        "    \n",
        "    try:\n",
        "        # Test async encoding (sends to Pulsar topic)\n",
        "        print(\"\\n\ud83d\udce8 Async encoding (queued via Pulsar)...\")\n",
        "        async_result = await AsyncPulsarMemvidAdapter.to_obj(\n",
        "            papers[:1],  # Single paper for demo\n",
        "            pulsar_url=PULSAR_URL,\n",
        "            topic=\"memory-operations\",\n",
        "            memory_id=\"research-async\",\n",
        "            video_file=video_file,\n",
        "            index_file=index_file,\n",
        "            text_field=\"abstract\",\n",
        "            async_processing=True\n",
        "        )\n",
        "        \n",
        "        print(f\"\u2705 Async operation queued:\")\n",
        "        print(f\"- Message sent: {async_result.get('message_sent')}\")\n",
        "        print(f\"- Memory ID: {async_result.get('memory_id')}\")\n",
        "        print(f\"- Message ID: {async_result.get('message_id')}\")\n",
        "        \n",
        "        print(\"\\n\ud83d\udca1 In production, background workers would process this message.\")\n",
        "        \n",
        "    except Exception as e:\n",
        "        print(f\"\u274c Operation failed: {e}\")\n",
        "\n",
        "# Run async operations demo\n",
        "await demo_async_operations()"
      ]
    },
    {
      "cell_type": "code",
      "execution_count": 6,
      "metadata": {},
      "outputs": [
        {
          "name": "stdout",
          "output_type": "stream",
          "text": [
            "\ud83d\udc77 Creating background memory worker...\n",
            "\u2705 Worker function created: function\n",
            "- Worker ID: demo-worker-001\n",
            "- Subscription: worker-group-1\n",
            "- Input topic: memory-operations\n",
            "- Result topic: operation-results\n",
            "\n",
            "\ud83d\udca1 In production, you would run this worker function\n",
            "   in separate processes/containers to handle the message queue.\n"
          ]
        }
      ],
      "source": [
        "# Background worker pattern\n",
        "async def demo_background_worker():\n",
        "    \"\"\"Demonstrate background worker creation.\"\"\"\n",
        "    if not pulsar_ready:\n",
        "        print(\"\u274c Pulsar not ready, skipping worker demo\")\n",
        "        return\n",
        "    \n",
        "    print(\"\ud83d\udc77 Creating background memory worker...\")\n",
        "    \n",
        "    try:\n",
        "        worker_func = await AsyncPulsarMemvidAdapter.create_memory_worker(\n",
        "            pulsar_url=PULSAR_URL,\n",
        "            topic=\"memory-operations\",\n",
        "            subscription=\"worker-group-1\",\n",
        "            result_topic=\"operation-results\",\n",
        "            worker_id=\"demo-worker-001\"\n",
        "        )\n",
        "        \n",
        "        print(f\"\u2705 Worker function created: {type(worker_func).__name__}\")\n",
        "        print(\"- Worker ID: demo-worker-001\")\n",
        "        print(\"- Subscription: worker-group-1\")\n",
        "        print(\"- Input topic: memory-operations\")\n",
        "        print(\"- Result topic: operation-results\")\n",
        "        \n",
        "        print(\"\\n\ud83d\udca1 In production, you would run this worker function\")\n",
        "        print(\"   in separate processes/containers to handle the message queue.\")\n",
        "        \n",
        "    except Exception as e:\n",
        "        print(f\"\u274c Worker creation failed: {e}\")\n",
        "\n",
        "# Run worker demo\n",
        "await demo_background_worker()"
      ]
    },
    {
      "cell_type": "markdown",
      "metadata": {},
      "source": [
        "## Summary\n",
        "\n",
        "This tutorial demonstrated:\n",
        "\n",
        "\u2705 **Enterprise Streaming**: Apache Pulsar integration for scalable messaging  \n",
        "\u2705 **Async Operations**: Both sync and async processing modes  \n",
        "\u2705 **Background Workers**: Scalable worker pattern for production  \n",
        "\u2705 **Type Safety**: Structured message models with Pydantic  \n",
        "\u2705 **Health Monitoring**: Built-in connectivity and health checks  \n",
        "\n",
        "### Key Benefits\n",
        "\n",
        "- **Scalability**: Horizontal scaling via Pulsar topics\n",
        "- **Reliability**: Message persistence and delivery guarantees  \n",
        "- **Flexibility**: Both sync and async processing modes\n",
        "- **Enterprise-Ready**: Production-grade streaming architecture\n",
        "\n",
        "Don't forget to stop Pulsar: `docker-compose down`"
      ]
    }
  ],
  "metadata": {
    "kernelspec": {
      "display_name": "pydapter",
      "language": "python",
      "name": "python3"
    },
    "language_info": {
      "codemirror_mode": {
        "name": "ipython",
        "version": 3
      },
      "file_extension": ".py",
      "mimetype": "text/x-python",
      "name": "python",
      "nbconvert_exporter": "python",
      "pygments_lexer": "ipython3",
      "version": "3.12.10"
    }
  },
  "nbformat": 4,
  "nbformat_minor": 4
}
